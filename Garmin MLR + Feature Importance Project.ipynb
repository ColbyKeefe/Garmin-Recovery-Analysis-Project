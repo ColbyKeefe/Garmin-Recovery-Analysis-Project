{
 "cells": [
  {
   "cell_type": "code",
   "execution_count": 83,
   "id": "0a834566",
   "metadata": {},
   "outputs": [],
   "source": [
    "# importing the necessary libraries \n",
    "import pandas as pd\n",
    "import numpy as np\n",
    "import matplotlib.pyplot as plt\n",
    "from sklearn.ensemble import RandomForestRegressor\n",
    "import pylab as pl\n",
    "%matplotlib inline"
   ]
  },
  {
   "cell_type": "code",
   "execution_count": 47,
   "id": "20416445",
   "metadata": {},
   "outputs": [],
   "source": [
    "# reading the Excel File into a pandas df \n",
    "df = pd.read_excel('Garmin Fully Combined Table.xlsx')"
   ]
  },
  {
   "cell_type": "code",
   "execution_count": 48,
   "id": "b88cf9d8",
   "metadata": {},
   "outputs": [],
   "source": [
    "df = pd.DataFrame(df)"
   ]
  },
  {
   "cell_type": "code",
   "execution_count": 49,
   "id": "861ce8f3",
   "metadata": {},
   "outputs": [
    {
     "data": {
      "text/html": [
       "<div>\n",
       "<style scoped>\n",
       "    .dataframe tbody tr th:only-of-type {\n",
       "        vertical-align: middle;\n",
       "    }\n",
       "\n",
       "    .dataframe tbody tr th {\n",
       "        vertical-align: top;\n",
       "    }\n",
       "\n",
       "    .dataframe thead th {\n",
       "        text-align: right;\n",
       "    }\n",
       "</style>\n",
       "<table border=\"1\" class=\"dataframe\">\n",
       "  <thead>\n",
       "    <tr style=\"text-align: right;\">\n",
       "      <th></th>\n",
       "      <th>Date</th>\n",
       "      <th>Sleep Duration</th>\n",
       "      <th>Resting Heart Rate</th>\n",
       "      <th>Stress</th>\n",
       "      <th>Body Battery</th>\n",
       "    </tr>\n",
       "  </thead>\n",
       "  <tbody>\n",
       "    <tr>\n",
       "      <th>0</th>\n",
       "      <td>False</td>\n",
       "      <td>True</td>\n",
       "      <td>False</td>\n",
       "      <td>False</td>\n",
       "      <td>False</td>\n",
       "    </tr>\n",
       "    <tr>\n",
       "      <th>1</th>\n",
       "      <td>False</td>\n",
       "      <td>False</td>\n",
       "      <td>False</td>\n",
       "      <td>False</td>\n",
       "      <td>False</td>\n",
       "    </tr>\n",
       "    <tr>\n",
       "      <th>2</th>\n",
       "      <td>False</td>\n",
       "      <td>False</td>\n",
       "      <td>False</td>\n",
       "      <td>False</td>\n",
       "      <td>False</td>\n",
       "    </tr>\n",
       "    <tr>\n",
       "      <th>3</th>\n",
       "      <td>False</td>\n",
       "      <td>True</td>\n",
       "      <td>False</td>\n",
       "      <td>False</td>\n",
       "      <td>False</td>\n",
       "    </tr>\n",
       "    <tr>\n",
       "      <th>4</th>\n",
       "      <td>False</td>\n",
       "      <td>False</td>\n",
       "      <td>False</td>\n",
       "      <td>False</td>\n",
       "      <td>False</td>\n",
       "    </tr>\n",
       "    <tr>\n",
       "      <th>...</th>\n",
       "      <td>...</td>\n",
       "      <td>...</td>\n",
       "      <td>...</td>\n",
       "      <td>...</td>\n",
       "      <td>...</td>\n",
       "    </tr>\n",
       "    <tr>\n",
       "      <th>57</th>\n",
       "      <td>False</td>\n",
       "      <td>False</td>\n",
       "      <td>False</td>\n",
       "      <td>False</td>\n",
       "      <td>False</td>\n",
       "    </tr>\n",
       "    <tr>\n",
       "      <th>58</th>\n",
       "      <td>False</td>\n",
       "      <td>False</td>\n",
       "      <td>False</td>\n",
       "      <td>False</td>\n",
       "      <td>False</td>\n",
       "    </tr>\n",
       "    <tr>\n",
       "      <th>59</th>\n",
       "      <td>False</td>\n",
       "      <td>False</td>\n",
       "      <td>False</td>\n",
       "      <td>False</td>\n",
       "      <td>False</td>\n",
       "    </tr>\n",
       "    <tr>\n",
       "      <th>60</th>\n",
       "      <td>False</td>\n",
       "      <td>False</td>\n",
       "      <td>False</td>\n",
       "      <td>False</td>\n",
       "      <td>False</td>\n",
       "    </tr>\n",
       "    <tr>\n",
       "      <th>61</th>\n",
       "      <td>False</td>\n",
       "      <td>False</td>\n",
       "      <td>False</td>\n",
       "      <td>False</td>\n",
       "      <td>False</td>\n",
       "    </tr>\n",
       "  </tbody>\n",
       "</table>\n",
       "<p>62 rows × 5 columns</p>\n",
       "</div>"
      ],
      "text/plain": [
       "    Date   Sleep Duration  Resting Heart Rate   Stress   Body Battery\n",
       "0   False            True                False    False         False\n",
       "1   False           False                False    False         False\n",
       "2   False           False                False    False         False\n",
       "3   False            True                False    False         False\n",
       "4   False           False                False    False         False\n",
       "..    ...             ...                  ...      ...           ...\n",
       "57  False           False                False    False         False\n",
       "58  False           False                False    False         False\n",
       "59  False           False                False    False         False\n",
       "60  False           False                False    False         False\n",
       "61  False           False                False    False         False\n",
       "\n",
       "[62 rows x 5 columns]"
      ]
     },
     "execution_count": 49,
     "metadata": {},
     "output_type": "execute_result"
    }
   ],
   "source": [
    "# checking for null values \n",
    "df.isnull()"
   ]
  },
  {
   "cell_type": "code",
   "execution_count": 50,
   "id": "e6033966",
   "metadata": {},
   "outputs": [
    {
     "data": {
      "text/plain": [
       "Date                   0\n",
       "Sleep Duration         4\n",
       "Resting Heart Rate     2\n",
       "Stress                 0\n",
       "Body Battery           0\n",
       "dtype: int64"
      ]
     },
     "execution_count": 50,
     "metadata": {},
     "output_type": "execute_result"
    }
   ],
   "source": [
    "# checking the number of null values \n",
    "df.isnull().sum()"
   ]
  },
  {
   "cell_type": "code",
   "execution_count": 51,
   "id": "164387ae",
   "metadata": {},
   "outputs": [
    {
     "data": {
      "text/plain": [
       "Date                   datetime64[ns]\n",
       "Sleep Duration                 object\n",
       "Resting Heart Rate            float64\n",
       "Stress                          int64\n",
       "Body Battery                    int64\n",
       "dtype: object"
      ]
     },
     "execution_count": 51,
     "metadata": {},
     "output_type": "execute_result"
    }
   ],
   "source": [
    "# Checking the df types \n",
    "df.dtypes\n"
   ]
  },
  {
   "cell_type": "code",
   "execution_count": 97,
   "id": "30f7f376",
   "metadata": {},
   "outputs": [],
   "source": [
    "# chaning the resting heart rate column into an integer data type\n",
    "df['Resting_HR'] = df['Resting_HR'].astype(int)"
   ]
  },
  {
   "cell_type": "code",
   "execution_count": 98,
   "id": "7740b4af",
   "metadata": {},
   "outputs": [],
   "source": [
    "# dropping null values \n",
    "df = df.dropna()"
   ]
  },
  {
   "cell_type": "code",
   "execution_count": 99,
   "id": "43bb302d",
   "metadata": {},
   "outputs": [],
   "source": [
    "df = df.rename(columns={'Sleep Duration': 'Sleep_Duration', 'Resting Heart Rate': 'Resting_HR', 'Body Battery': 'Body_Battery'\n",
    "                       , 'Date': 'My_Date'})\n",
    "\n",
    "\n"
   ]
  },
  {
   "cell_type": "code",
   "execution_count": 100,
   "id": "f15d7e30",
   "metadata": {},
   "outputs": [],
   "source": [
    "# deleting any trailing or leading white space in the labels \n",
    "df.columns = df.columns.str.strip()"
   ]
  },
  {
   "cell_type": "code",
   "execution_count": 137,
   "id": "b8cdaeda",
   "metadata": {},
   "outputs": [],
   "source": [
    "# stripping the hrs out of the sleep duration data to convert it to an integer value\n",
    "df['Sleep_Duration'] = df['Sleep_Duration'].str.replace(' hrs', '')"
   ]
  },
  {
   "cell_type": "code",
   "execution_count": 102,
   "id": "194cbca9",
   "metadata": {},
   "outputs": [
    {
     "data": {
      "text/html": [
       "<div>\n",
       "<style scoped>\n",
       "    .dataframe tbody tr th:only-of-type {\n",
       "        vertical-align: middle;\n",
       "    }\n",
       "\n",
       "    .dataframe tbody tr th {\n",
       "        vertical-align: top;\n",
       "    }\n",
       "\n",
       "    .dataframe thead th {\n",
       "        text-align: right;\n",
       "    }\n",
       "</style>\n",
       "<table border=\"1\" class=\"dataframe\">\n",
       "  <thead>\n",
       "    <tr style=\"text-align: right;\">\n",
       "      <th></th>\n",
       "      <th>My_Date</th>\n",
       "      <th>Sleep_Duration</th>\n",
       "      <th>Resting_HR</th>\n",
       "      <th>Stress</th>\n",
       "      <th>Body_Battery</th>\n",
       "    </tr>\n",
       "  </thead>\n",
       "  <tbody>\n",
       "    <tr>\n",
       "      <th>1</th>\n",
       "      <td>2022-12-01</td>\n",
       "      <td>8.32</td>\n",
       "      <td>54</td>\n",
       "      <td>26</td>\n",
       "      <td>57</td>\n",
       "    </tr>\n",
       "    <tr>\n",
       "      <th>2</th>\n",
       "      <td>2022-12-02</td>\n",
       "      <td>8.12</td>\n",
       "      <td>50</td>\n",
       "      <td>28</td>\n",
       "      <td>98</td>\n",
       "    </tr>\n",
       "    <tr>\n",
       "      <th>4</th>\n",
       "      <td>2022-12-04</td>\n",
       "      <td>7.02</td>\n",
       "      <td>56</td>\n",
       "      <td>44</td>\n",
       "      <td>23</td>\n",
       "    </tr>\n",
       "    <tr>\n",
       "      <th>5</th>\n",
       "      <td>2022-12-05</td>\n",
       "      <td>10.28</td>\n",
       "      <td>46</td>\n",
       "      <td>19</td>\n",
       "      <td>100</td>\n",
       "    </tr>\n",
       "    <tr>\n",
       "      <th>7</th>\n",
       "      <td>2022-12-07</td>\n",
       "      <td>9.30</td>\n",
       "      <td>46</td>\n",
       "      <td>24</td>\n",
       "      <td>100</td>\n",
       "    </tr>\n",
       "  </tbody>\n",
       "</table>\n",
       "</div>"
      ],
      "text/plain": [
       "     My_Date  Sleep_Duration  Resting_HR  Stress  Body_Battery\n",
       "1 2022-12-01            8.32          54      26            57\n",
       "2 2022-12-02            8.12          50      28            98\n",
       "4 2022-12-04            7.02          56      44            23\n",
       "5 2022-12-05           10.28          46      19           100\n",
       "7 2022-12-07            9.30          46      24           100"
      ]
     },
     "execution_count": 102,
     "metadata": {},
     "output_type": "execute_result"
    }
   ],
   "source": [
    "df.head()"
   ]
  },
  {
   "cell_type": "code",
   "execution_count": 103,
   "id": "1f89c1df",
   "metadata": {},
   "outputs": [
    {
     "data": {
      "image/png": "[encoded data removed]",
      "text/plain": [
       "<Figure size 432x288 with 1 Axes>"
      ]
     },
     "metadata": {
      "needs_background": "light"
     },
     "output_type": "display_data"
    }
   ],
   "source": [
    "plt.scatter(df.Sleep_Duration, df.Body_Battery, color='red')\n",
    "plt.xlabel('Sleep Duration')\n",
    "plt.ylabel('Body Battery')\n",
    "plt.show()"
   ]
  },
  {
   "cell_type": "code",
   "execution_count": 121,
   "id": "0c16c2d0",
   "metadata": {},
   "outputs": [
    {
     "name": "stdout",
     "output_type": "stream",
     "text": [
      "0.6399815067118241\n"
     ]
    }
   ],
   "source": [
    "sleep_corr = df['Sleep_Duration'].corr(df['Body_Battery'])\n",
    "print(sleep_corr)"
   ]
  },
  {
   "cell_type": "code",
   "execution_count": 104,
   "id": "b716df7e",
   "metadata": {},
   "outputs": [
    {
     "data": {
      "image/png": "[encoded data removed]",
      "text/plain": [
       "<Figure size 432x288 with 1 Axes>"
      ]
     },
     "metadata": {
      "needs_background": "light"
     },
     "output_type": "display_data"
    }
   ],
   "source": [
    "plt.scatter(df.Resting_HR, df.Body_Battery, color='red')\n",
    "plt.xlabel('Resting Heart Rate')\n",
    "plt.ylabel('Body Battery')\n",
    "plt.show()"
   ]
  },
  {
   "cell_type": "code",
   "execution_count": 120,
   "id": "db64c599",
   "metadata": {},
   "outputs": [
    {
     "name": "stdout",
     "output_type": "stream",
     "text": [
      "-0.26754023954999073\n"
     ]
    }
   ],
   "source": [
    "HR_corr = df['Resting_HR'].corr(df['Body_Battery'])\n",
    "print(HR_corr)"
   ]
  },
  {
   "cell_type": "code",
   "execution_count": 105,
   "id": "98a1238a",
   "metadata": {},
   "outputs": [
    {
     "data": {
      "image/png": "[encoded data removed]",
      "text/plain": [
       "<Figure size 432x288 with 1 Axes>"
      ]
     },
     "metadata": {
      "needs_background": "light"
     },
     "output_type": "display_data"
    }
   ],
   "source": [
    "plt.scatter(df.Stress, df.Body_Battery, color='blue')\n",
    "plt.xlabel('Stress Level')\n",
    "plt.ylabel('Body Batteery')\n",
    "plt.show()"
   ]
  },
  {
   "cell_type": "code",
   "execution_count": 118,
   "id": "1b082666",
   "metadata": {},
   "outputs": [
    {
     "name": "stdout",
     "output_type": "stream",
     "text": [
      "-0.8498917858592171\n"
     ]
    }
   ],
   "source": [
    "stress_corr = df['Stress'].corr(df['Body_Battery'])\n",
    "print(stress_corr)"
   ]
  },
  {
   "cell_type": "code",
   "execution_count": 112,
   "id": "47473577",
   "metadata": {},
   "outputs": [],
   "source": [
    "# creating testing and training split \n",
    "\n",
    "msk = np.random.rand(len(df))<0.8\n",
    "train = df[msk]\n",
    "test = df[~msk]"
   ]
  },
  {
   "cell_type": "code",
   "execution_count": 113,
   "id": "fd99d17f",
   "metadata": {},
   "outputs": [
    {
     "data": {
      "image/png": "[encoded data removed]",
      "text/plain": [
       "<Figure size 432x288 with 1 Axes>"
      ]
     },
     "metadata": {
      "needs_background": "light"
     },
     "output_type": "display_data"
    }
   ],
   "source": [
    "# plotting the training data \n",
    "\n",
    "plt.scatter(train.Stress, train.Body_Battery, color='red')\n",
    "plt.xlabel('Stress')\n",
    "plt.ylabel('Recovery')\n",
    "plt.show()"
   ]
  },
  {
   "cell_type": "markdown",
   "id": "3a72e8f4",
   "metadata": {},
   "source": [
    "# Multiple Linear Regression Model\n",
    "\n",
    "A multiple linear regression model can be used to try and predict the relationship between multiple independent variable and a dependent variable. The problem with using the model in this scenario is that it assumes each independent variable has a linear relationship with the dependent variable, which in this case it not true. "
   ]
  },
  {
   "cell_type": "code",
   "execution_count": 114,
   "id": "b9c4b9f3",
   "metadata": {},
   "outputs": [
    {
     "name": "stdout",
     "output_type": "stream",
     "text": [
      "Coefficients [[-1.68172225 -0.12182322  4.68436678]]\n"
     ]
    }
   ],
   "source": [
    "# Creating a Linear Regression Model \n",
    "from sklearn import linear_model\n",
    "import numpy as np\n",
    "regr = linear_model.LinearRegression()\n",
    "x = np.asanyarray(train[['Stress', 'Resting_HR', 'Sleep_Duration']])\n",
    "y = np.asanyarray(train[['Body_Battery']])\n",
    "regr.fit(x,y)\n",
    "print('Coefficients', regr.coef_)"
   ]
  },
  {
   "cell_type": "code",
   "execution_count": 115,
   "id": "c8705b75",
   "metadata": {},
   "outputs": [
    {
     "name": "stdout",
     "output_type": "stream",
     "text": [
      "Residual sun of squares 179.64\n",
      "Variance score: 0.8052538288156399\n"
     ]
    },
    {
     "name": "stderr",
     "output_type": "stream",
     "text": [
      "/Users/colbykeefe/opt/anaconda3/lib/python3.9/site-packages/sklearn/base.py:443: UserWarning: X has feature names, but LinearRegression was fitted without feature names\n",
      "  warnings.warn(\n"
     ]
    }
   ],
   "source": [
    "# predictions \n",
    "y_hat = regr.predict(test[['Stress', 'Resting_HR', 'Sleep_Duration']])\n",
    "x = np.asanyarray(test[['Stress', 'Resting_HR', 'Sleep_Duration']])\n",
    "y = np.asanyarray(test[['Body_Battery']])\n",
    "print('Residual sun of squares %.2f'%np.mean((y_hat - y)**2))\n",
    "print('Variance score:' , regr.score(x,y))"
   ]
  },
  {
   "cell_type": "markdown",
   "id": "fb4f51e4",
   "metadata": {},
   "source": [
    "## Findings\n",
    "\n",
    "The Coeffiecients show that Sleep duration has the highest impact on recovery. However, it should be noted sleep duration also a relatively low correlation level. Stress has a strong negative impact, so when stress goes up by one unit, recovery goes down by 1.68 units. The residual sum of squares is a measure that shows how well the model fits the data, the score of 179 is rather high and shows that it is not a great fit for the data. A variance of 0.805 shows that the data points are not extremely spread from the mean. \n"
   ]
  },
  {
   "cell_type": "markdown",
   "id": "40bb99b6",
   "metadata": {},
   "source": [
    "# Feature Importance Model\n",
    "\n",
    "A feature importance model is a Machine Learning algorithm that calculatest the level of importance each independent variable has on the dependent varaible. In this case, it will determine which variable has the highest impact on recovery between stress, sleep duration, and resting heart rate. "
   ]
  },
  {
   "cell_type": "code",
   "execution_count": 123,
   "id": "94fac2e0",
   "metadata": {},
   "outputs": [
    {
     "data": {
      "text/plain": [
       "My_Date           datetime64[ns]\n",
       "Sleep_Duration           float64\n",
       "Resting_HR                 int64\n",
       "Stress                     int64\n",
       "Body_Battery               int64\n",
       "dtype: object"
      ]
     },
     "execution_count": 123,
     "metadata": {},
     "output_type": "execute_result"
    }
   ],
   "source": [
    "# checking the data types of each column\n",
    "df.dtypes"
   ]
  },
  {
   "cell_type": "code",
   "execution_count": 133,
   "id": "19960006",
   "metadata": {},
   "outputs": [],
   "source": [
    "# changing the sleep duration column from a float to an integer as the model requries integer values \n",
    "df['Sleep_Duration'] = df['Sleep_Duration'].astype(int)"
   ]
  },
  {
   "cell_type": "code",
   "execution_count": 126,
   "id": "9322a80f",
   "metadata": {},
   "outputs": [
    {
     "data": {
      "text/plain": [
       "My_Date           datetime64[ns]\n",
       "Sleep_Duration             int64\n",
       "Resting_HR                 int64\n",
       "Stress                     int64\n",
       "Body_Battery               int64\n",
       "dtype: object"
      ]
     },
     "execution_count": 126,
     "metadata": {},
     "output_type": "execute_result"
    }
   ],
   "source": [
    "# checking to see that it worked \n",
    "df.dtypes"
   ]
  },
  {
   "cell_type": "code",
   "execution_count": 128,
   "id": "a4c3d45e",
   "metadata": {},
   "outputs": [],
   "source": [
    "#drop the date from the table\n",
    "df_nd = df.drop('My_Date', axis=1)"
   ]
  },
  {
   "cell_type": "code",
   "execution_count": 129,
   "id": "5018db04",
   "metadata": {},
   "outputs": [],
   "source": [
    "# Splitting the data into X and Y. X data = the variables, Y data = Body_Battery\n",
    "X = df_nd.drop('Body_Battery', axis=1)\n",
    "Y = df_nd['Body_Battery']"
   ]
  },
  {
   "cell_type": "code",
   "execution_count": 130,
   "id": "262e678a",
   "metadata": {},
   "outputs": [
    {
     "data": {
      "text/plain": [
       "RandomForestRegressor()"
      ]
     },
     "execution_count": 130,
     "metadata": {},
     "output_type": "execute_result"
    }
   ],
   "source": [
    "# creating the model and fitting the X and Y data into it \n",
    "model = RandomForestRegressor()\n",
    "model.fit(X,Y)"
   ]
  },
  {
   "cell_type": "code",
   "execution_count": 134,
   "id": "51cd8797",
   "metadata": {},
   "outputs": [
    {
     "name": "stdout",
     "output_type": "stream",
     "text": [
      "[0.0406789  0.23356661 0.72575449]\n"
     ]
    }
   ],
   "source": [
    "# getting the importance values \n",
    "importances = model.feature_importances_\n",
    "print(importances)"
   ]
  },
  {
   "cell_type": "code",
   "execution_count": 136,
   "id": "c1703eab",
   "metadata": {},
   "outputs": [
    {
     "data": {
      "image/png": "[encoded data removed]",
      "text/plain": [
       "<Figure size 432x288 with 1 Axes>"
      ]
     },
     "metadata": {
      "needs_background": "light"
     },
     "output_type": "display_data"
    }
   ],
   "source": [
    "# plotting the importance scores onto a horizontal bar plot \n",
    "feat_importances = pd.Series(importances, index=X.columns)\n",
    "feat_importances.nlargest(4).plot(kind='barh')\n",
    "plt.show()"
   ]
  },
  {
   "cell_type": "markdown",
   "id": "7e73cbbe",
   "metadata": {},
   "source": [
    "## Findings \n",
    "\n",
    "The graph above shows that stress is the highest impact independent variable on recovery. It accounts for over 70% of recovery. While resting heart rate accounts for 25% and sleep duration accounts for the remaining 5% of recovery. "
   ]
  }
 ],
 "metadata": {
  "kernelspec": {
   "display_name": "Python 3 (ipykernel)",
   "language": "python",
   "name": "python3"
  },
  "language_info": {
   "codemirror_mode": {
    "name": "ipython",
    "version": 3
   },
   "file_extension": ".py",
   "mimetype": "text/x-python",
   "name": "python",
   "nbconvert_exporter": "python",
   "pygments_lexer": "ipython3",
   "version": "3.9.12"
  }
 },
 "nbformat": 4,
 "nbformat_minor": 5
}
